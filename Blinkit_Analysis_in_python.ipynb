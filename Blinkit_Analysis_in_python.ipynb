{
  "nbformat": 4,
  "nbformat_minor": 0,
  "metadata": {
    "colab": {
      "provenance": []
    },
    "kernelspec": {
      "name": "python3",
      "display_name": "Python 3"
    },
    "language_info": {
      "name": "python"
    }
  },
  "cells": [
    {
      "cell_type": "markdown",
      "source": [
        "# Data Analysis using Python - Blinkit Analysis\n"
      ],
      "metadata": {
        "id": "T5B2clZMh4MG"
      }
    },
    {
      "cell_type": "markdown",
      "source": [
        "Using Libraries"
      ],
      "metadata": {
        "id": "KmvDNX-riBaF"
      }
    },
    {
      "cell_type": "code",
      "source": [
        "import pandas as pd\n",
        "import numpy as np\n",
        "import matplotlib.pyplot as plt\n",
        "import seaborn as sns"
      ],
      "metadata": {
        "id": "vR8drDfZifdN"
      },
      "execution_count": 2,
      "outputs": []
    },
    {
      "cell_type": "markdown",
      "source": [
        "Import Raw Data\n"
      ],
      "metadata": {
        "id": "Hh21rqOyiull"
      }
    },
    {
      "cell_type": "code",
      "source": [
        "data = pd.read_csv(\"/content/BlinkIT Grocery Data.csv\")\n"
      ],
      "metadata": {
        "id": "no0XNVcXi_-l"
      },
      "execution_count": 3,
      "outputs": []
    },
    {
      "cell_type": "code",
      "source": [
        "data.head(10)"
      ],
      "metadata": {
        "colab": {
          "base_uri": "https://localhost:8080/",
          "height": 363
        },
        "id": "H0bW1ZAekCSM",
        "outputId": "5118a1b8-63e6-47fa-aab9-afdd5dbda6b0"
      },
      "execution_count": 7,
      "outputs": [
        {
          "output_type": "execute_result",
          "data": {
            "text/plain": [
              "  Item Fat Content Item Identifier              Item Type  \\\n",
              "0          Regular           FDX32  Fruits and Vegetables   \n",
              "1          Low Fat           NCB42     Health and Hygiene   \n",
              "2          Regular           FDR28           Frozen Foods   \n",
              "3          Regular           FDL50                 Canned   \n",
              "4          Low Fat           DRI25            Soft Drinks   \n",
              "5          low fat           FDS52           Frozen Foods   \n",
              "6          Low Fat           NCU05     Health and Hygiene   \n",
              "7          Low Fat           NCD30              Household   \n",
              "8          Low Fat           FDW20  Fruits and Vegetables   \n",
              "9          Low Fat           FDX25                 Canned   \n",
              "\n",
              "   Outlet Establishment Year Outlet Identifier Outlet Location Type  \\\n",
              "0                       2012            OUT049               Tier 1   \n",
              "1                       2022            OUT018               Tier 3   \n",
              "2                       2016            OUT046               Tier 1   \n",
              "3                       2014            OUT013               Tier 3   \n",
              "4                       2015            OUT045               Tier 2   \n",
              "5                       2020            OUT017               Tier 2   \n",
              "6                       2011            OUT010               Tier 3   \n",
              "7                       2015            OUT045               Tier 2   \n",
              "8                       2014            OUT013               Tier 3   \n",
              "9                       2018            OUT027               Tier 3   \n",
              "\n",
              "  Outlet Size        Outlet Type  Item Visibility  Item Weight     Sales  \\\n",
              "0      Medium  Supermarket Type1         0.100014        15.10  145.4786   \n",
              "1      Medium  Supermarket Type2         0.008596        11.80  115.3492   \n",
              "2       Small  Supermarket Type1         0.025896        13.85  165.0210   \n",
              "3        High  Supermarket Type1         0.042278        12.15  126.5046   \n",
              "4       Small  Supermarket Type1         0.033970        19.60   55.1614   \n",
              "5       Small  Supermarket Type1         0.005505         8.89  102.4016   \n",
              "6       Small      Grocery Store         0.098312        11.80   81.4618   \n",
              "7       Small  Supermarket Type1         0.026904        19.70   96.0726   \n",
              "8        High  Supermarket Type1         0.024129        20.75  124.1730   \n",
              "9      Medium  Supermarket Type3         0.101562          NaN  181.9292   \n",
              "\n",
              "   Rating  \n",
              "0     5.0  \n",
              "1     5.0  \n",
              "2     5.0  \n",
              "3     5.0  \n",
              "4     5.0  \n",
              "5     5.0  \n",
              "6     5.0  \n",
              "7     5.0  \n",
              "8     5.0  \n",
              "9     5.0  "
            ],
            "text/html": [
              "\n",
              "  <div id=\"df-8d0fb21b-aac3-4017-b109-3f086ed3a8ca\" class=\"colab-df-container\">\n",
              "    <div>\n",
              "<style scoped>\n",
              "    .dataframe tbody tr th:only-of-type {\n",
              "        vertical-align: middle;\n",
              "    }\n",
              "\n",
              "    .dataframe tbody tr th {\n",
              "        vertical-align: top;\n",
              "    }\n",
              "\n",
              "    .dataframe thead th {\n",
              "        text-align: right;\n",
              "    }\n",
              "</style>\n",
              "<table border=\"1\" class=\"dataframe\">\n",
              "  <thead>\n",
              "    <tr style=\"text-align: right;\">\n",
              "      <th></th>\n",
              "      <th>Item Fat Content</th>\n",
              "      <th>Item Identifier</th>\n",
              "      <th>Item Type</th>\n",
              "      <th>Outlet Establishment Year</th>\n",
              "      <th>Outlet Identifier</th>\n",
              "      <th>Outlet Location Type</th>\n",
              "      <th>Outlet Size</th>\n",
              "      <th>Outlet Type</th>\n",
              "      <th>Item Visibility</th>\n",
              "      <th>Item Weight</th>\n",
              "      <th>Sales</th>\n",
              "      <th>Rating</th>\n",
              "    </tr>\n",
              "  </thead>\n",
              "  <tbody>\n",
              "    <tr>\n",
              "      <th>0</th>\n",
              "      <td>Regular</td>\n",
              "      <td>FDX32</td>\n",
              "      <td>Fruits and Vegetables</td>\n",
              "      <td>2012</td>\n",
              "      <td>OUT049</td>\n",
              "      <td>Tier 1</td>\n",
              "      <td>Medium</td>\n",
              "      <td>Supermarket Type1</td>\n",
              "      <td>0.100014</td>\n",
              "      <td>15.10</td>\n",
              "      <td>145.4786</td>\n",
              "      <td>5.0</td>\n",
              "    </tr>\n",
              "    <tr>\n",
              "      <th>1</th>\n",
              "      <td>Low Fat</td>\n",
              "      <td>NCB42</td>\n",
              "      <td>Health and Hygiene</td>\n",
              "      <td>2022</td>\n",
              "      <td>OUT018</td>\n",
              "      <td>Tier 3</td>\n",
              "      <td>Medium</td>\n",
              "      <td>Supermarket Type2</td>\n",
              "      <td>0.008596</td>\n",
              "      <td>11.80</td>\n",
              "      <td>115.3492</td>\n",
              "      <td>5.0</td>\n",
              "    </tr>\n",
              "    <tr>\n",
              "      <th>2</th>\n",
              "      <td>Regular</td>\n",
              "      <td>FDR28</td>\n",
              "      <td>Frozen Foods</td>\n",
              "      <td>2016</td>\n",
              "      <td>OUT046</td>\n",
              "      <td>Tier 1</td>\n",
              "      <td>Small</td>\n",
              "      <td>Supermarket Type1</td>\n",
              "      <td>0.025896</td>\n",
              "      <td>13.85</td>\n",
              "      <td>165.0210</td>\n",
              "      <td>5.0</td>\n",
              "    </tr>\n",
              "    <tr>\n",
              "      <th>3</th>\n",
              "      <td>Regular</td>\n",
              "      <td>FDL50</td>\n",
              "      <td>Canned</td>\n",
              "      <td>2014</td>\n",
              "      <td>OUT013</td>\n",
              "      <td>Tier 3</td>\n",
              "      <td>High</td>\n",
              "      <td>Supermarket Type1</td>\n",
              "      <td>0.042278</td>\n",
              "      <td>12.15</td>\n",
              "      <td>126.5046</td>\n",
              "      <td>5.0</td>\n",
              "    </tr>\n",
              "    <tr>\n",
              "      <th>4</th>\n",
              "      <td>Low Fat</td>\n",
              "      <td>DRI25</td>\n",
              "      <td>Soft Drinks</td>\n",
              "      <td>2015</td>\n",
              "      <td>OUT045</td>\n",
              "      <td>Tier 2</td>\n",
              "      <td>Small</td>\n",
              "      <td>Supermarket Type1</td>\n",
              "      <td>0.033970</td>\n",
              "      <td>19.60</td>\n",
              "      <td>55.1614</td>\n",
              "      <td>5.0</td>\n",
              "    </tr>\n",
              "    <tr>\n",
              "      <th>5</th>\n",
              "      <td>low fat</td>\n",
              "      <td>FDS52</td>\n",
              "      <td>Frozen Foods</td>\n",
              "      <td>2020</td>\n",
              "      <td>OUT017</td>\n",
              "      <td>Tier 2</td>\n",
              "      <td>Small</td>\n",
              "      <td>Supermarket Type1</td>\n",
              "      <td>0.005505</td>\n",
              "      <td>8.89</td>\n",
              "      <td>102.4016</td>\n",
              "      <td>5.0</td>\n",
              "    </tr>\n",
              "    <tr>\n",
              "      <th>6</th>\n",
              "      <td>Low Fat</td>\n",
              "      <td>NCU05</td>\n",
              "      <td>Health and Hygiene</td>\n",
              "      <td>2011</td>\n",
              "      <td>OUT010</td>\n",
              "      <td>Tier 3</td>\n",
              "      <td>Small</td>\n",
              "      <td>Grocery Store</td>\n",
              "      <td>0.098312</td>\n",
              "      <td>11.80</td>\n",
              "      <td>81.4618</td>\n",
              "      <td>5.0</td>\n",
              "    </tr>\n",
              "    <tr>\n",
              "      <th>7</th>\n",
              "      <td>Low Fat</td>\n",
              "      <td>NCD30</td>\n",
              "      <td>Household</td>\n",
              "      <td>2015</td>\n",
              "      <td>OUT045</td>\n",
              "      <td>Tier 2</td>\n",
              "      <td>Small</td>\n",
              "      <td>Supermarket Type1</td>\n",
              "      <td>0.026904</td>\n",
              "      <td>19.70</td>\n",
              "      <td>96.0726</td>\n",
              "      <td>5.0</td>\n",
              "    </tr>\n",
              "    <tr>\n",
              "      <th>8</th>\n",
              "      <td>Low Fat</td>\n",
              "      <td>FDW20</td>\n",
              "      <td>Fruits and Vegetables</td>\n",
              "      <td>2014</td>\n",
              "      <td>OUT013</td>\n",
              "      <td>Tier 3</td>\n",
              "      <td>High</td>\n",
              "      <td>Supermarket Type1</td>\n",
              "      <td>0.024129</td>\n",
              "      <td>20.75</td>\n",
              "      <td>124.1730</td>\n",
              "      <td>5.0</td>\n",
              "    </tr>\n",
              "    <tr>\n",
              "      <th>9</th>\n",
              "      <td>Low Fat</td>\n",
              "      <td>FDX25</td>\n",
              "      <td>Canned</td>\n",
              "      <td>2018</td>\n",
              "      <td>OUT027</td>\n",
              "      <td>Tier 3</td>\n",
              "      <td>Medium</td>\n",
              "      <td>Supermarket Type3</td>\n",
              "      <td>0.101562</td>\n",
              "      <td>NaN</td>\n",
              "      <td>181.9292</td>\n",
              "      <td>5.0</td>\n",
              "    </tr>\n",
              "  </tbody>\n",
              "</table>\n",
              "</div>\n",
              "    <div class=\"colab-df-buttons\">\n",
              "\n",
              "  <div class=\"colab-df-container\">\n",
              "    <button class=\"colab-df-convert\" onclick=\"convertToInteractive('df-8d0fb21b-aac3-4017-b109-3f086ed3a8ca')\"\n",
              "            title=\"Convert this dataframe to an interactive table.\"\n",
              "            style=\"display:none;\">\n",
              "\n",
              "  <svg xmlns=\"http://www.w3.org/2000/svg\" height=\"24px\" viewBox=\"0 -960 960 960\">\n",
              "    <path d=\"M120-120v-720h720v720H120Zm60-500h600v-160H180v160Zm220 220h160v-160H400v160Zm0 220h160v-160H400v160ZM180-400h160v-160H180v160Zm440 0h160v-160H620v160ZM180-180h160v-160H180v160Zm440 0h160v-160H620v160Z\"/>\n",
              "  </svg>\n",
              "    </button>\n",
              "\n",
              "  <style>\n",
              "    .colab-df-container {\n",
              "      display:flex;\n",
              "      gap: 12px;\n",
              "    }\n",
              "\n",
              "    .colab-df-convert {\n",
              "      background-color: #E8F0FE;\n",
              "      border: none;\n",
              "      border-radius: 50%;\n",
              "      cursor: pointer;\n",
              "      display: none;\n",
              "      fill: #1967D2;\n",
              "      height: 32px;\n",
              "      padding: 0 0 0 0;\n",
              "      width: 32px;\n",
              "    }\n",
              "\n",
              "    .colab-df-convert:hover {\n",
              "      background-color: #E2EBFA;\n",
              "      box-shadow: 0px 1px 2px rgba(60, 64, 67, 0.3), 0px 1px 3px 1px rgba(60, 64, 67, 0.15);\n",
              "      fill: #174EA6;\n",
              "    }\n",
              "\n",
              "    .colab-df-buttons div {\n",
              "      margin-bottom: 4px;\n",
              "    }\n",
              "\n",
              "    [theme=dark] .colab-df-convert {\n",
              "      background-color: #3B4455;\n",
              "      fill: #D2E3FC;\n",
              "    }\n",
              "\n",
              "    [theme=dark] .colab-df-convert:hover {\n",
              "      background-color: #434B5C;\n",
              "      box-shadow: 0px 1px 3px 1px rgba(0, 0, 0, 0.15);\n",
              "      filter: drop-shadow(0px 1px 2px rgba(0, 0, 0, 0.3));\n",
              "      fill: #FFFFFF;\n",
              "    }\n",
              "  </style>\n",
              "\n",
              "    <script>\n",
              "      const buttonEl =\n",
              "        document.querySelector('#df-8d0fb21b-aac3-4017-b109-3f086ed3a8ca button.colab-df-convert');\n",
              "      buttonEl.style.display =\n",
              "        google.colab.kernel.accessAllowed ? 'block' : 'none';\n",
              "\n",
              "      async function convertToInteractive(key) {\n",
              "        const element = document.querySelector('#df-8d0fb21b-aac3-4017-b109-3f086ed3a8ca');\n",
              "        const dataTable =\n",
              "          await google.colab.kernel.invokeFunction('convertToInteractive',\n",
              "                                                    [key], {});\n",
              "        if (!dataTable) return;\n",
              "\n",
              "        const docLinkHtml = 'Like what you see? Visit the ' +\n",
              "          '<a target=\"_blank\" href=https://colab.research.google.com/notebooks/data_table.ipynb>data table notebook</a>'\n",
              "          + ' to learn more about interactive tables.';\n",
              "        element.innerHTML = '';\n",
              "        dataTable['output_type'] = 'display_data';\n",
              "        await google.colab.output.renderOutput(dataTable, element);\n",
              "        const docLink = document.createElement('div');\n",
              "        docLink.innerHTML = docLinkHtml;\n",
              "        element.appendChild(docLink);\n",
              "      }\n",
              "    </script>\n",
              "  </div>\n",
              "\n",
              "\n",
              "    <div id=\"df-b9233439-3ce9-42fc-835b-b3a0dd8b51ab\">\n",
              "      <button class=\"colab-df-quickchart\" onclick=\"quickchart('df-b9233439-3ce9-42fc-835b-b3a0dd8b51ab')\"\n",
              "                title=\"Suggest charts\"\n",
              "                style=\"display:none;\">\n",
              "\n",
              "<svg xmlns=\"http://www.w3.org/2000/svg\" height=\"24px\"viewBox=\"0 0 24 24\"\n",
              "     width=\"24px\">\n",
              "    <g>\n",
              "        <path d=\"M19 3H5c-1.1 0-2 .9-2 2v14c0 1.1.9 2 2 2h14c1.1 0 2-.9 2-2V5c0-1.1-.9-2-2-2zM9 17H7v-7h2v7zm4 0h-2V7h2v10zm4 0h-2v-4h2v4z\"/>\n",
              "    </g>\n",
              "</svg>\n",
              "      </button>\n",
              "\n",
              "<style>\n",
              "  .colab-df-quickchart {\n",
              "      --bg-color: #E8F0FE;\n",
              "      --fill-color: #1967D2;\n",
              "      --hover-bg-color: #E2EBFA;\n",
              "      --hover-fill-color: #174EA6;\n",
              "      --disabled-fill-color: #AAA;\n",
              "      --disabled-bg-color: #DDD;\n",
              "  }\n",
              "\n",
              "  [theme=dark] .colab-df-quickchart {\n",
              "      --bg-color: #3B4455;\n",
              "      --fill-color: #D2E3FC;\n",
              "      --hover-bg-color: #434B5C;\n",
              "      --hover-fill-color: #FFFFFF;\n",
              "      --disabled-bg-color: #3B4455;\n",
              "      --disabled-fill-color: #666;\n",
              "  }\n",
              "\n",
              "  .colab-df-quickchart {\n",
              "    background-color: var(--bg-color);\n",
              "    border: none;\n",
              "    border-radius: 50%;\n",
              "    cursor: pointer;\n",
              "    display: none;\n",
              "    fill: var(--fill-color);\n",
              "    height: 32px;\n",
              "    padding: 0;\n",
              "    width: 32px;\n",
              "  }\n",
              "\n",
              "  .colab-df-quickchart:hover {\n",
              "    background-color: var(--hover-bg-color);\n",
              "    box-shadow: 0 1px 2px rgba(60, 64, 67, 0.3), 0 1px 3px 1px rgba(60, 64, 67, 0.15);\n",
              "    fill: var(--button-hover-fill-color);\n",
              "  }\n",
              "\n",
              "  .colab-df-quickchart-complete:disabled,\n",
              "  .colab-df-quickchart-complete:disabled:hover {\n",
              "    background-color: var(--disabled-bg-color);\n",
              "    fill: var(--disabled-fill-color);\n",
              "    box-shadow: none;\n",
              "  }\n",
              "\n",
              "  .colab-df-spinner {\n",
              "    border: 2px solid var(--fill-color);\n",
              "    border-color: transparent;\n",
              "    border-bottom-color: var(--fill-color);\n",
              "    animation:\n",
              "      spin 1s steps(1) infinite;\n",
              "  }\n",
              "\n",
              "  @keyframes spin {\n",
              "    0% {\n",
              "      border-color: transparent;\n",
              "      border-bottom-color: var(--fill-color);\n",
              "      border-left-color: var(--fill-color);\n",
              "    }\n",
              "    20% {\n",
              "      border-color: transparent;\n",
              "      border-left-color: var(--fill-color);\n",
              "      border-top-color: var(--fill-color);\n",
              "    }\n",
              "    30% {\n",
              "      border-color: transparent;\n",
              "      border-left-color: var(--fill-color);\n",
              "      border-top-color: var(--fill-color);\n",
              "      border-right-color: var(--fill-color);\n",
              "    }\n",
              "    40% {\n",
              "      border-color: transparent;\n",
              "      border-right-color: var(--fill-color);\n",
              "      border-top-color: var(--fill-color);\n",
              "    }\n",
              "    60% {\n",
              "      border-color: transparent;\n",
              "      border-right-color: var(--fill-color);\n",
              "    }\n",
              "    80% {\n",
              "      border-color: transparent;\n",
              "      border-right-color: var(--fill-color);\n",
              "      border-bottom-color: var(--fill-color);\n",
              "    }\n",
              "    90% {\n",
              "      border-color: transparent;\n",
              "      border-bottom-color: var(--fill-color);\n",
              "    }\n",
              "  }\n",
              "</style>\n",
              "\n",
              "      <script>\n",
              "        async function quickchart(key) {\n",
              "          const quickchartButtonEl =\n",
              "            document.querySelector('#' + key + ' button');\n",
              "          quickchartButtonEl.disabled = true;  // To prevent multiple clicks.\n",
              "          quickchartButtonEl.classList.add('colab-df-spinner');\n",
              "          try {\n",
              "            const charts = await google.colab.kernel.invokeFunction(\n",
              "                'suggestCharts', [key], {});\n",
              "          } catch (error) {\n",
              "            console.error('Error during call to suggestCharts:', error);\n",
              "          }\n",
              "          quickchartButtonEl.classList.remove('colab-df-spinner');\n",
              "          quickchartButtonEl.classList.add('colab-df-quickchart-complete');\n",
              "        }\n",
              "        (() => {\n",
              "          let quickchartButtonEl =\n",
              "            document.querySelector('#df-b9233439-3ce9-42fc-835b-b3a0dd8b51ab button');\n",
              "          quickchartButtonEl.style.display =\n",
              "            google.colab.kernel.accessAllowed ? 'block' : 'none';\n",
              "        })();\n",
              "      </script>\n",
              "    </div>\n",
              "\n",
              "    </div>\n",
              "  </div>\n"
            ],
            "application/vnd.google.colaboratory.intrinsic+json": {
              "type": "dataframe",
              "variable_name": "data",
              "summary": "{\n  \"name\": \"data\",\n  \"rows\": 8523,\n  \"fields\": [\n    {\n      \"column\": \"Item Fat Content\",\n      \"properties\": {\n        \"dtype\": \"category\",\n        \"num_unique_values\": 5,\n        \"samples\": [\n          \"Low Fat\",\n          \"reg\",\n          \"low fat\"\n        ],\n        \"semantic_type\": \"\",\n        \"description\": \"\"\n      }\n    },\n    {\n      \"column\": \"Item Identifier\",\n      \"properties\": {\n        \"dtype\": \"category\",\n        \"num_unique_values\": 1559,\n        \"samples\": [\n          \"FDG58\",\n          \"FDF59\",\n          \"FDJ21\"\n        ],\n        \"semantic_type\": \"\",\n        \"description\": \"\"\n      }\n    },\n    {\n      \"column\": \"Item Type\",\n      \"properties\": {\n        \"dtype\": \"category\",\n        \"num_unique_values\": 16,\n        \"samples\": [\n          \"Fruits and Vegetables\",\n          \"Health and Hygiene\",\n          \"Household\"\n        ],\n        \"semantic_type\": \"\",\n        \"description\": \"\"\n      }\n    },\n    {\n      \"column\": \"Outlet Establishment Year\",\n      \"properties\": {\n        \"dtype\": \"number\",\n        \"std\": 3,\n        \"min\": 2011,\n        \"max\": 2022,\n        \"num_unique_values\": 9,\n        \"samples\": [\n          2018,\n          2022,\n          2020\n        ],\n        \"semantic_type\": \"\",\n        \"description\": \"\"\n      }\n    },\n    {\n      \"column\": \"Outlet Identifier\",\n      \"properties\": {\n        \"dtype\": \"category\",\n        \"num_unique_values\": 10,\n        \"samples\": [\n          \"OUT035\",\n          \"OUT018\",\n          \"OUT017\"\n        ],\n        \"semantic_type\": \"\",\n        \"description\": \"\"\n      }\n    },\n    {\n      \"column\": \"Outlet Location Type\",\n      \"properties\": {\n        \"dtype\": \"category\",\n        \"num_unique_values\": 3,\n        \"samples\": [\n          \"Tier 1\",\n          \"Tier 3\",\n          \"Tier 2\"\n        ],\n        \"semantic_type\": \"\",\n        \"description\": \"\"\n      }\n    },\n    {\n      \"column\": \"Outlet Size\",\n      \"properties\": {\n        \"dtype\": \"category\",\n        \"num_unique_values\": 3,\n        \"samples\": [\n          \"Medium\",\n          \"Small\",\n          \"High\"\n        ],\n        \"semantic_type\": \"\",\n        \"description\": \"\"\n      }\n    },\n    {\n      \"column\": \"Outlet Type\",\n      \"properties\": {\n        \"dtype\": \"category\",\n        \"num_unique_values\": 4,\n        \"samples\": [\n          \"Supermarket Type2\",\n          \"Supermarket Type3\",\n          \"Supermarket Type1\"\n        ],\n        \"semantic_type\": \"\",\n        \"description\": \"\"\n      }\n    },\n    {\n      \"column\": \"Item Visibility\",\n      \"properties\": {\n        \"dtype\": \"number\",\n        \"std\": 0.05159783432068637,\n        \"min\": 0.0,\n        \"max\": 0.328390948,\n        \"num_unique_values\": 7880,\n        \"samples\": [\n          0.014222617,\n          0.018310142,\n          0.112227747\n        ],\n        \"semantic_type\": \"\",\n        \"description\": \"\"\n      }\n    },\n    {\n      \"column\": \"Item Weight\",\n      \"properties\": {\n        \"dtype\": \"number\",\n        \"std\": 4.643456499186394,\n        \"min\": 4.555,\n        \"max\": 21.35,\n        \"num_unique_values\": 415,\n        \"samples\": [\n          15.5,\n          7.96,\n          8.275\n        ],\n        \"semantic_type\": \"\",\n        \"description\": \"\"\n      }\n    },\n    {\n      \"column\": \"Sales\",\n      \"properties\": {\n        \"dtype\": \"number\",\n        \"std\": 62.27506681084077,\n        \"min\": 31.29,\n        \"max\": 266.8884,\n        \"num_unique_values\": 5938,\n        \"samples\": [\n          179.566,\n          228.801,\n          112.6886\n        ],\n        \"semantic_type\": \"\",\n        \"description\": \"\"\n      }\n    },\n    {\n      \"column\": \"Rating\",\n      \"properties\": {\n        \"dtype\": \"number\",\n        \"std\": 0.6056512797408804,\n        \"min\": 1.0,\n        \"max\": 5.0,\n        \"num_unique_values\": 39,\n        \"samples\": [\n          1.7,\n          1.3,\n          4.6\n        ],\n        \"semantic_type\": \"\",\n        \"description\": \"\"\n      }\n    }\n  ]\n}"
            }
          },
          "metadata": {},
          "execution_count": 7
        }
      ]
    },
    {
      "cell_type": "code",
      "source": [
        "data.tail(10)"
      ],
      "metadata": {
        "colab": {
          "base_uri": "https://localhost:8080/",
          "height": 363
        },
        "id": "K83ZGl0pjrmV",
        "outputId": "b60c4142-b67c-478d-f3b3-fb95cb5a04cb"
      },
      "execution_count": 4,
      "outputs": [
        {
          "output_type": "execute_result",
          "data": {
            "text/plain": [
              "     Item Fat Content Item Identifier              Item Type  \\\n",
              "8513          Regular           DRY23            Soft Drinks   \n",
              "8514          low fat           FDA11           Baking Goods   \n",
              "8515          low fat           FDK38                 Canned   \n",
              "8516          low fat           FDO38                 Canned   \n",
              "8517          low fat           FDG32  Fruits and Vegetables   \n",
              "8518          low fat           NCT53     Health and Hygiene   \n",
              "8519          low fat           FDN09            Snack Foods   \n",
              "8520          low fat           DRE13            Soft Drinks   \n",
              "8521              reg           FDT50                  Dairy   \n",
              "8522              reg           FDM58            Snack Foods   \n",
              "\n",
              "      Outlet Establishment Year Outlet Identifier Outlet Location Type  \\\n",
              "8513                       2018            OUT027               Tier 3   \n",
              "8514                       2018            OUT027               Tier 3   \n",
              "8515                       2018            OUT027               Tier 3   \n",
              "8516                       2018            OUT027               Tier 3   \n",
              "8517                       2018            OUT027               Tier 3   \n",
              "8518                       2018            OUT027               Tier 3   \n",
              "8519                       2018            OUT027               Tier 3   \n",
              "8520                       2018            OUT027               Tier 3   \n",
              "8521                       2018            OUT027               Tier 3   \n",
              "8522                       2018            OUT027               Tier 3   \n",
              "\n",
              "     Outlet Size        Outlet Type  Item Visibility  Item Weight     Sales  \\\n",
              "8513      Medium  Supermarket Type3         0.108568          NaN   42.9112   \n",
              "8514      Medium  Supermarket Type3         0.043029          NaN   94.7436   \n",
              "8515      Medium  Supermarket Type3         0.053032          NaN  149.1734   \n",
              "8516      Medium  Supermarket Type3         0.072486          NaN   78.9986   \n",
              "8517      Medium  Supermarket Type3         0.175143          NaN  222.3772   \n",
              "8518      Medium  Supermarket Type3         0.000000          NaN  164.5526   \n",
              "8519      Medium  Supermarket Type3         0.034706          NaN  241.6828   \n",
              "8520      Medium  Supermarket Type3         0.027571          NaN   86.6198   \n",
              "8521      Medium  Supermarket Type3         0.107715          NaN   97.8752   \n",
              "8522      Medium  Supermarket Type3         0.000000          NaN  112.2544   \n",
              "\n",
              "      Rating  \n",
              "8513     4.0  \n",
              "8514     4.0  \n",
              "8515     4.0  \n",
              "8516     4.0  \n",
              "8517     4.0  \n",
              "8518     4.0  \n",
              "8519     4.0  \n",
              "8520     4.0  \n",
              "8521     4.0  \n",
              "8522     4.0  "
            ],
            "text/html": [
              "\n",
              "  <div id=\"df-700cf1e9-5325-4bb3-9e53-21b9d7528a9a\" class=\"colab-df-container\">\n",
              "    <div>\n",
              "<style scoped>\n",
              "    .dataframe tbody tr th:only-of-type {\n",
              "        vertical-align: middle;\n",
              "    }\n",
              "\n",
              "    .dataframe tbody tr th {\n",
              "        vertical-align: top;\n",
              "    }\n",
              "\n",
              "    .dataframe thead th {\n",
              "        text-align: right;\n",
              "    }\n",
              "</style>\n",
              "<table border=\"1\" class=\"dataframe\">\n",
              "  <thead>\n",
              "    <tr style=\"text-align: right;\">\n",
              "      <th></th>\n",
              "      <th>Item Fat Content</th>\n",
              "      <th>Item Identifier</th>\n",
              "      <th>Item Type</th>\n",
              "      <th>Outlet Establishment Year</th>\n",
              "      <th>Outlet Identifier</th>\n",
              "      <th>Outlet Location Type</th>\n",
              "      <th>Outlet Size</th>\n",
              "      <th>Outlet Type</th>\n",
              "      <th>Item Visibility</th>\n",
              "      <th>Item Weight</th>\n",
              "      <th>Sales</th>\n",
              "      <th>Rating</th>\n",
              "    </tr>\n",
              "  </thead>\n",
              "  <tbody>\n",
              "    <tr>\n",
              "      <th>8513</th>\n",
              "      <td>Regular</td>\n",
              "      <td>DRY23</td>\n",
              "      <td>Soft Drinks</td>\n",
              "      <td>2018</td>\n",
              "      <td>OUT027</td>\n",
              "      <td>Tier 3</td>\n",
              "      <td>Medium</td>\n",
              "      <td>Supermarket Type3</td>\n",
              "      <td>0.108568</td>\n",
              "      <td>NaN</td>\n",
              "      <td>42.9112</td>\n",
              "      <td>4.0</td>\n",
              "    </tr>\n",
              "    <tr>\n",
              "      <th>8514</th>\n",
              "      <td>low fat</td>\n",
              "      <td>FDA11</td>\n",
              "      <td>Baking Goods</td>\n",
              "      <td>2018</td>\n",
              "      <td>OUT027</td>\n",
              "      <td>Tier 3</td>\n",
              "      <td>Medium</td>\n",
              "      <td>Supermarket Type3</td>\n",
              "      <td>0.043029</td>\n",
              "      <td>NaN</td>\n",
              "      <td>94.7436</td>\n",
              "      <td>4.0</td>\n",
              "    </tr>\n",
              "    <tr>\n",
              "      <th>8515</th>\n",
              "      <td>low fat</td>\n",
              "      <td>FDK38</td>\n",
              "      <td>Canned</td>\n",
              "      <td>2018</td>\n",
              "      <td>OUT027</td>\n",
              "      <td>Tier 3</td>\n",
              "      <td>Medium</td>\n",
              "      <td>Supermarket Type3</td>\n",
              "      <td>0.053032</td>\n",
              "      <td>NaN</td>\n",
              "      <td>149.1734</td>\n",
              "      <td>4.0</td>\n",
              "    </tr>\n",
              "    <tr>\n",
              "      <th>8516</th>\n",
              "      <td>low fat</td>\n",
              "      <td>FDO38</td>\n",
              "      <td>Canned</td>\n",
              "      <td>2018</td>\n",
              "      <td>OUT027</td>\n",
              "      <td>Tier 3</td>\n",
              "      <td>Medium</td>\n",
              "      <td>Supermarket Type3</td>\n",
              "      <td>0.072486</td>\n",
              "      <td>NaN</td>\n",
              "      <td>78.9986</td>\n",
              "      <td>4.0</td>\n",
              "    </tr>\n",
              "    <tr>\n",
              "      <th>8517</th>\n",
              "      <td>low fat</td>\n",
              "      <td>FDG32</td>\n",
              "      <td>Fruits and Vegetables</td>\n",
              "      <td>2018</td>\n",
              "      <td>OUT027</td>\n",
              "      <td>Tier 3</td>\n",
              "      <td>Medium</td>\n",
              "      <td>Supermarket Type3</td>\n",
              "      <td>0.175143</td>\n",
              "      <td>NaN</td>\n",
              "      <td>222.3772</td>\n",
              "      <td>4.0</td>\n",
              "    </tr>\n",
              "    <tr>\n",
              "      <th>8518</th>\n",
              "      <td>low fat</td>\n",
              "      <td>NCT53</td>\n",
              "      <td>Health and Hygiene</td>\n",
              "      <td>2018</td>\n",
              "      <td>OUT027</td>\n",
              "      <td>Tier 3</td>\n",
              "      <td>Medium</td>\n",
              "      <td>Supermarket Type3</td>\n",
              "      <td>0.000000</td>\n",
              "      <td>NaN</td>\n",
              "      <td>164.5526</td>\n",
              "      <td>4.0</td>\n",
              "    </tr>\n",
              "    <tr>\n",
              "      <th>8519</th>\n",
              "      <td>low fat</td>\n",
              "      <td>FDN09</td>\n",
              "      <td>Snack Foods</td>\n",
              "      <td>2018</td>\n",
              "      <td>OUT027</td>\n",
              "      <td>Tier 3</td>\n",
              "      <td>Medium</td>\n",
              "      <td>Supermarket Type3</td>\n",
              "      <td>0.034706</td>\n",
              "      <td>NaN</td>\n",
              "      <td>241.6828</td>\n",
              "      <td>4.0</td>\n",
              "    </tr>\n",
              "    <tr>\n",
              "      <th>8520</th>\n",
              "      <td>low fat</td>\n",
              "      <td>DRE13</td>\n",
              "      <td>Soft Drinks</td>\n",
              "      <td>2018</td>\n",
              "      <td>OUT027</td>\n",
              "      <td>Tier 3</td>\n",
              "      <td>Medium</td>\n",
              "      <td>Supermarket Type3</td>\n",
              "      <td>0.027571</td>\n",
              "      <td>NaN</td>\n",
              "      <td>86.6198</td>\n",
              "      <td>4.0</td>\n",
              "    </tr>\n",
              "    <tr>\n",
              "      <th>8521</th>\n",
              "      <td>reg</td>\n",
              "      <td>FDT50</td>\n",
              "      <td>Dairy</td>\n",
              "      <td>2018</td>\n",
              "      <td>OUT027</td>\n",
              "      <td>Tier 3</td>\n",
              "      <td>Medium</td>\n",
              "      <td>Supermarket Type3</td>\n",
              "      <td>0.107715</td>\n",
              "      <td>NaN</td>\n",
              "      <td>97.8752</td>\n",
              "      <td>4.0</td>\n",
              "    </tr>\n",
              "    <tr>\n",
              "      <th>8522</th>\n",
              "      <td>reg</td>\n",
              "      <td>FDM58</td>\n",
              "      <td>Snack Foods</td>\n",
              "      <td>2018</td>\n",
              "      <td>OUT027</td>\n",
              "      <td>Tier 3</td>\n",
              "      <td>Medium</td>\n",
              "      <td>Supermarket Type3</td>\n",
              "      <td>0.000000</td>\n",
              "      <td>NaN</td>\n",
              "      <td>112.2544</td>\n",
              "      <td>4.0</td>\n",
              "    </tr>\n",
              "  </tbody>\n",
              "</table>\n",
              "</div>\n",
              "    <div class=\"colab-df-buttons\">\n",
              "\n",
              "  <div class=\"colab-df-container\">\n",
              "    <button class=\"colab-df-convert\" onclick=\"convertToInteractive('df-700cf1e9-5325-4bb3-9e53-21b9d7528a9a')\"\n",
              "            title=\"Convert this dataframe to an interactive table.\"\n",
              "            style=\"display:none;\">\n",
              "\n",
              "  <svg xmlns=\"http://www.w3.org/2000/svg\" height=\"24px\" viewBox=\"0 -960 960 960\">\n",
              "    <path d=\"M120-120v-720h720v720H120Zm60-500h600v-160H180v160Zm220 220h160v-160H400v160Zm0 220h160v-160H400v160ZM180-400h160v-160H180v160Zm440 0h160v-160H620v160ZM180-180h160v-160H180v160Zm440 0h160v-160H620v160Z\"/>\n",
              "  </svg>\n",
              "    </button>\n",
              "\n",
              "  <style>\n",
              "    .colab-df-container {\n",
              "      display:flex;\n",
              "      gap: 12px;\n",
              "    }\n",
              "\n",
              "    .colab-df-convert {\n",
              "      background-color: #E8F0FE;\n",
              "      border: none;\n",
              "      border-radius: 50%;\n",
              "      cursor: pointer;\n",
              "      display: none;\n",
              "      fill: #1967D2;\n",
              "      height: 32px;\n",
              "      padding: 0 0 0 0;\n",
              "      width: 32px;\n",
              "    }\n",
              "\n",
              "    .colab-df-convert:hover {\n",
              "      background-color: #E2EBFA;\n",
              "      box-shadow: 0px 1px 2px rgba(60, 64, 67, 0.3), 0px 1px 3px 1px rgba(60, 64, 67, 0.15);\n",
              "      fill: #174EA6;\n",
              "    }\n",
              "\n",
              "    .colab-df-buttons div {\n",
              "      margin-bottom: 4px;\n",
              "    }\n",
              "\n",
              "    [theme=dark] .colab-df-convert {\n",
              "      background-color: #3B4455;\n",
              "      fill: #D2E3FC;\n",
              "    }\n",
              "\n",
              "    [theme=dark] .colab-df-convert:hover {\n",
              "      background-color: #434B5C;\n",
              "      box-shadow: 0px 1px 3px 1px rgba(0, 0, 0, 0.15);\n",
              "      filter: drop-shadow(0px 1px 2px rgba(0, 0, 0, 0.3));\n",
              "      fill: #FFFFFF;\n",
              "    }\n",
              "  </style>\n",
              "\n",
              "    <script>\n",
              "      const buttonEl =\n",
              "        document.querySelector('#df-700cf1e9-5325-4bb3-9e53-21b9d7528a9a button.colab-df-convert');\n",
              "      buttonEl.style.display =\n",
              "        google.colab.kernel.accessAllowed ? 'block' : 'none';\n",
              "\n",
              "      async function convertToInteractive(key) {\n",
              "        const element = document.querySelector('#df-700cf1e9-5325-4bb3-9e53-21b9d7528a9a');\n",
              "        const dataTable =\n",
              "          await google.colab.kernel.invokeFunction('convertToInteractive',\n",
              "                                                    [key], {});\n",
              "        if (!dataTable) return;\n",
              "\n",
              "        const docLinkHtml = 'Like what you see? Visit the ' +\n",
              "          '<a target=\"_blank\" href=https://colab.research.google.com/notebooks/data_table.ipynb>data table notebook</a>'\n",
              "          + ' to learn more about interactive tables.';\n",
              "        element.innerHTML = '';\n",
              "        dataTable['output_type'] = 'display_data';\n",
              "        await google.colab.output.renderOutput(dataTable, element);\n",
              "        const docLink = document.createElement('div');\n",
              "        docLink.innerHTML = docLinkHtml;\n",
              "        element.appendChild(docLink);\n",
              "      }\n",
              "    </script>\n",
              "  </div>\n",
              "\n",
              "\n",
              "    <div id=\"df-d9dd8b08-494f-4461-b305-35d32231bf14\">\n",
              "      <button class=\"colab-df-quickchart\" onclick=\"quickchart('df-d9dd8b08-494f-4461-b305-35d32231bf14')\"\n",
              "                title=\"Suggest charts\"\n",
              "                style=\"display:none;\">\n",
              "\n",
              "<svg xmlns=\"http://www.w3.org/2000/svg\" height=\"24px\"viewBox=\"0 0 24 24\"\n",
              "     width=\"24px\">\n",
              "    <g>\n",
              "        <path d=\"M19 3H5c-1.1 0-2 .9-2 2v14c0 1.1.9 2 2 2h14c1.1 0 2-.9 2-2V5c0-1.1-.9-2-2-2zM9 17H7v-7h2v7zm4 0h-2V7h2v10zm4 0h-2v-4h2v4z\"/>\n",
              "    </g>\n",
              "</svg>\n",
              "      </button>\n",
              "\n",
              "<style>\n",
              "  .colab-df-quickchart {\n",
              "      --bg-color: #E8F0FE;\n",
              "      --fill-color: #1967D2;\n",
              "      --hover-bg-color: #E2EBFA;\n",
              "      --hover-fill-color: #174EA6;\n",
              "      --disabled-fill-color: #AAA;\n",
              "      --disabled-bg-color: #DDD;\n",
              "  }\n",
              "\n",
              "  [theme=dark] .colab-df-quickchart {\n",
              "      --bg-color: #3B4455;\n",
              "      --fill-color: #D2E3FC;\n",
              "      --hover-bg-color: #434B5C;\n",
              "      --hover-fill-color: #FFFFFF;\n",
              "      --disabled-bg-color: #3B4455;\n",
              "      --disabled-fill-color: #666;\n",
              "  }\n",
              "\n",
              "  .colab-df-quickchart {\n",
              "    background-color: var(--bg-color);\n",
              "    border: none;\n",
              "    border-radius: 50%;\n",
              "    cursor: pointer;\n",
              "    display: none;\n",
              "    fill: var(--fill-color);\n",
              "    height: 32px;\n",
              "    padding: 0;\n",
              "    width: 32px;\n",
              "  }\n",
              "\n",
              "  .colab-df-quickchart:hover {\n",
              "    background-color: var(--hover-bg-color);\n",
              "    box-shadow: 0 1px 2px rgba(60, 64, 67, 0.3), 0 1px 3px 1px rgba(60, 64, 67, 0.15);\n",
              "    fill: var(--button-hover-fill-color);\n",
              "  }\n",
              "\n",
              "  .colab-df-quickchart-complete:disabled,\n",
              "  .colab-df-quickchart-complete:disabled:hover {\n",
              "    background-color: var(--disabled-bg-color);\n",
              "    fill: var(--disabled-fill-color);\n",
              "    box-shadow: none;\n",
              "  }\n",
              "\n",
              "  .colab-df-spinner {\n",
              "    border: 2px solid var(--fill-color);\n",
              "    border-color: transparent;\n",
              "    border-bottom-color: var(--fill-color);\n",
              "    animation:\n",
              "      spin 1s steps(1) infinite;\n",
              "  }\n",
              "\n",
              "  @keyframes spin {\n",
              "    0% {\n",
              "      border-color: transparent;\n",
              "      border-bottom-color: var(--fill-color);\n",
              "      border-left-color: var(--fill-color);\n",
              "    }\n",
              "    20% {\n",
              "      border-color: transparent;\n",
              "      border-left-color: var(--fill-color);\n",
              "      border-top-color: var(--fill-color);\n",
              "    }\n",
              "    30% {\n",
              "      border-color: transparent;\n",
              "      border-left-color: var(--fill-color);\n",
              "      border-top-color: var(--fill-color);\n",
              "      border-right-color: var(--fill-color);\n",
              "    }\n",
              "    40% {\n",
              "      border-color: transparent;\n",
              "      border-right-color: var(--fill-color);\n",
              "      border-top-color: var(--fill-color);\n",
              "    }\n",
              "    60% {\n",
              "      border-color: transparent;\n",
              "      border-right-color: var(--fill-color);\n",
              "    }\n",
              "    80% {\n",
              "      border-color: transparent;\n",
              "      border-right-color: var(--fill-color);\n",
              "      border-bottom-color: var(--fill-color);\n",
              "    }\n",
              "    90% {\n",
              "      border-color: transparent;\n",
              "      border-bottom-color: var(--fill-color);\n",
              "    }\n",
              "  }\n",
              "</style>\n",
              "\n",
              "      <script>\n",
              "        async function quickchart(key) {\n",
              "          const quickchartButtonEl =\n",
              "            document.querySelector('#' + key + ' button');\n",
              "          quickchartButtonEl.disabled = true;  // To prevent multiple clicks.\n",
              "          quickchartButtonEl.classList.add('colab-df-spinner');\n",
              "          try {\n",
              "            const charts = await google.colab.kernel.invokeFunction(\n",
              "                'suggestCharts', [key], {});\n",
              "          } catch (error) {\n",
              "            console.error('Error during call to suggestCharts:', error);\n",
              "          }\n",
              "          quickchartButtonEl.classList.remove('colab-df-spinner');\n",
              "          quickchartButtonEl.classList.add('colab-df-quickchart-complete');\n",
              "        }\n",
              "        (() => {\n",
              "          let quickchartButtonEl =\n",
              "            document.querySelector('#df-d9dd8b08-494f-4461-b305-35d32231bf14 button');\n",
              "          quickchartButtonEl.style.display =\n",
              "            google.colab.kernel.accessAllowed ? 'block' : 'none';\n",
              "        })();\n",
              "      </script>\n",
              "    </div>\n",
              "\n",
              "    </div>\n",
              "  </div>\n"
            ],
            "application/vnd.google.colaboratory.intrinsic+json": {
              "type": "dataframe",
              "summary": "{\n  \"name\": \"data\",\n  \"rows\": 10,\n  \"fields\": [\n    {\n      \"column\": \"Item Fat Content\",\n      \"properties\": {\n        \"dtype\": \"category\",\n        \"num_unique_values\": 3,\n        \"samples\": [\n          \"Regular\",\n          \"low fat\",\n          \"reg\"\n        ],\n        \"semantic_type\": \"\",\n        \"description\": \"\"\n      }\n    },\n    {\n      \"column\": \"Item Identifier\",\n      \"properties\": {\n        \"dtype\": \"string\",\n        \"num_unique_values\": 10,\n        \"samples\": [\n          \"FDT50\",\n          \"FDA11\",\n          \"NCT53\"\n        ],\n        \"semantic_type\": \"\",\n        \"description\": \"\"\n      }\n    },\n    {\n      \"column\": \"Item Type\",\n      \"properties\": {\n        \"dtype\": \"string\",\n        \"num_unique_values\": 7,\n        \"samples\": [\n          \"Soft Drinks\",\n          \"Baking Goods\",\n          \"Snack Foods\"\n        ],\n        \"semantic_type\": \"\",\n        \"description\": \"\"\n      }\n    },\n    {\n      \"column\": \"Outlet Establishment Year\",\n      \"properties\": {\n        \"dtype\": \"number\",\n        \"std\": 0,\n        \"min\": 2018,\n        \"max\": 2018,\n        \"num_unique_values\": 1,\n        \"samples\": [\n          2018\n        ],\n        \"semantic_type\": \"\",\n        \"description\": \"\"\n      }\n    },\n    {\n      \"column\": \"Outlet Identifier\",\n      \"properties\": {\n        \"dtype\": \"category\",\n        \"num_unique_values\": 1,\n        \"samples\": [\n          \"OUT027\"\n        ],\n        \"semantic_type\": \"\",\n        \"description\": \"\"\n      }\n    },\n    {\n      \"column\": \"Outlet Location Type\",\n      \"properties\": {\n        \"dtype\": \"category\",\n        \"num_unique_values\": 1,\n        \"samples\": [\n          \"Tier 3\"\n        ],\n        \"semantic_type\": \"\",\n        \"description\": \"\"\n      }\n    },\n    {\n      \"column\": \"Outlet Size\",\n      \"properties\": {\n        \"dtype\": \"category\",\n        \"num_unique_values\": 1,\n        \"samples\": [\n          \"Medium\"\n        ],\n        \"semantic_type\": \"\",\n        \"description\": \"\"\n      }\n    },\n    {\n      \"column\": \"Outlet Type\",\n      \"properties\": {\n        \"dtype\": \"category\",\n        \"num_unique_values\": 1,\n        \"samples\": [\n          \"Supermarket Type3\"\n        ],\n        \"semantic_type\": \"\",\n        \"description\": \"\"\n      }\n    },\n    {\n      \"column\": \"Item Visibility\",\n      \"properties\": {\n        \"dtype\": \"number\",\n        \"std\": 0.05500295733630225,\n        \"min\": 0.0,\n        \"max\": 0.17514326,\n        \"num_unique_values\": 9,\n        \"samples\": [\n          0.027570939\n        ],\n        \"semantic_type\": \"\",\n        \"description\": \"\"\n      }\n    },\n    {\n      \"column\": \"Item Weight\",\n      \"properties\": {\n        \"dtype\": \"number\",\n        \"std\": null,\n        \"min\": null,\n        \"max\": null,\n        \"num_unique_values\": 0,\n        \"samples\": [],\n        \"semantic_type\": \"\",\n        \"description\": \"\"\n      }\n    },\n    {\n      \"column\": \"Sales\",\n      \"properties\": {\n        \"dtype\": \"number\",\n        \"std\": 64.30629749726089,\n        \"min\": 42.9112,\n        \"max\": 241.6828,\n        \"num_unique_values\": 10,\n        \"samples\": [],\n        \"semantic_type\": \"\",\n        \"description\": \"\"\n      }\n    },\n    {\n      \"column\": \"Rating\",\n      \"properties\": {\n        \"dtype\": \"number\",\n        \"std\": 0.0,\n        \"min\": 4.0,\n        \"max\": 4.0,\n        \"num_unique_values\": 1,\n        \"samples\": [],\n        \"semantic_type\": \"\",\n        \"description\": \"\"\n      }\n    }\n  ]\n}"
            }
          },
          "metadata": {},
          "execution_count": 4
        }
      ]
    },
    {
      "cell_type": "markdown",
      "source": [
        "Size of Data Use numpy shape"
      ],
      "metadata": {
        "id": "GtS6xosnkv6z"
      }
    },
    {
      "cell_type": "code",
      "source": [
        "data.shape"
      ],
      "metadata": {
        "colab": {
          "base_uri": "https://localhost:8080/"
        },
        "id": "nCa5rUluk9pb",
        "outputId": "4992ad07-c721-4c9c-fa36-76d8683ba6d0"
      },
      "execution_count": 5,
      "outputs": [
        {
          "output_type": "execute_result",
          "data": {
            "text/plain": [
              "(8523, 12)"
            ]
          },
          "metadata": {},
          "execution_count": 5
        }
      ]
    },
    {
      "cell_type": "code",
      "source": [
        "print(\"size of the data\",data.shape)"
      ],
      "metadata": {
        "colab": {
          "base_uri": "https://localhost:8080/"
        },
        "id": "JTPznQJKiaew",
        "outputId": "749152e5-cb05-4381-877b-5876f1e4a934"
      },
      "execution_count": 7,
      "outputs": [
        {
          "output_type": "stream",
          "name": "stdout",
          "text": [
            "size of the data (8523, 12)\n"
          ]
        }
      ]
    },
    {
      "cell_type": "markdown",
      "source": [
        "Field Information"
      ],
      "metadata": {
        "id": "7mpnKfvJilDv"
      }
    },
    {
      "cell_type": "code",
      "source": [
        "data.columns"
      ],
      "metadata": {
        "colab": {
          "base_uri": "https://localhost:8080/"
        },
        "id": "w88ha69jioI-",
        "outputId": "c2cc1ad4-214a-41e0-f321-0ae77b1c0138"
      },
      "execution_count": 6,
      "outputs": [
        {
          "output_type": "execute_result",
          "data": {
            "text/plain": [
              "Index(['Item Fat Content', 'Item Identifier', 'Item Type',\n",
              "       'Outlet Establishment Year', 'Outlet Identifier',\n",
              "       'Outlet Location Type', 'Outlet Size', 'Outlet Type', 'Item Visibility',\n",
              "       'Item Weight', 'Sales', 'Rating'],\n",
              "      dtype='object')"
            ]
          },
          "metadata": {},
          "execution_count": 6
        }
      ]
    },
    {
      "cell_type": "markdown",
      "source": [
        "Data Type"
      ],
      "metadata": {
        "id": "q7FU3J4_f2pl"
      }
    },
    {
      "cell_type": "code",
      "source": [
        "data.dtypes"
      ],
      "metadata": {
        "colab": {
          "base_uri": "https://localhost:8080/",
          "height": 460
        },
        "id": "q3985AU5f0wN",
        "outputId": "6f78782b-ddd4-4d5a-e42b-733d5ff693c5"
      },
      "execution_count": 8,
      "outputs": [
        {
          "output_type": "execute_result",
          "data": {
            "text/plain": [
              "Item Fat Content              object\n",
              "Item Identifier               object\n",
              "Item Type                     object\n",
              "Outlet Establishment Year      int64\n",
              "Outlet Identifier             object\n",
              "Outlet Location Type          object\n",
              "Outlet Size                   object\n",
              "Outlet Type                   object\n",
              "Item Visibility              float64\n",
              "Item Weight                  float64\n",
              "Sales                        float64\n",
              "Rating                       float64\n",
              "dtype: object"
            ],
            "text/html": [
              "<div>\n",
              "<style scoped>\n",
              "    .dataframe tbody tr th:only-of-type {\n",
              "        vertical-align: middle;\n",
              "    }\n",
              "\n",
              "    .dataframe tbody tr th {\n",
              "        vertical-align: top;\n",
              "    }\n",
              "\n",
              "    .dataframe thead th {\n",
              "        text-align: right;\n",
              "    }\n",
              "</style>\n",
              "<table border=\"1\" class=\"dataframe\">\n",
              "  <thead>\n",
              "    <tr style=\"text-align: right;\">\n",
              "      <th></th>\n",
              "      <th>0</th>\n",
              "    </tr>\n",
              "  </thead>\n",
              "  <tbody>\n",
              "    <tr>\n",
              "      <th>Item Fat Content</th>\n",
              "      <td>object</td>\n",
              "    </tr>\n",
              "    <tr>\n",
              "      <th>Item Identifier</th>\n",
              "      <td>object</td>\n",
              "    </tr>\n",
              "    <tr>\n",
              "      <th>Item Type</th>\n",
              "      <td>object</td>\n",
              "    </tr>\n",
              "    <tr>\n",
              "      <th>Outlet Establishment Year</th>\n",
              "      <td>int64</td>\n",
              "    </tr>\n",
              "    <tr>\n",
              "      <th>Outlet Identifier</th>\n",
              "      <td>object</td>\n",
              "    </tr>\n",
              "    <tr>\n",
              "      <th>Outlet Location Type</th>\n",
              "      <td>object</td>\n",
              "    </tr>\n",
              "    <tr>\n",
              "      <th>Outlet Size</th>\n",
              "      <td>object</td>\n",
              "    </tr>\n",
              "    <tr>\n",
              "      <th>Outlet Type</th>\n",
              "      <td>object</td>\n",
              "    </tr>\n",
              "    <tr>\n",
              "      <th>Item Visibility</th>\n",
              "      <td>float64</td>\n",
              "    </tr>\n",
              "    <tr>\n",
              "      <th>Item Weight</th>\n",
              "      <td>float64</td>\n",
              "    </tr>\n",
              "    <tr>\n",
              "      <th>Sales</th>\n",
              "      <td>float64</td>\n",
              "    </tr>\n",
              "    <tr>\n",
              "      <th>Rating</th>\n",
              "      <td>float64</td>\n",
              "    </tr>\n",
              "  </tbody>\n",
              "</table>\n",
              "</div><br><label><b>dtype:</b> object</label>"
            ]
          },
          "metadata": {},
          "execution_count": 8
        }
      ]
    },
    {
      "cell_type": "markdown",
      "source": [
        "**Printing Unique Value in the column  ( Item Fat Content ) for data cleaning**"
      ],
      "metadata": {
        "id": "Lfq8fjhFgEyF"
      }
    },
    {
      "cell_type": "code",
      "source": [
        "print(data['Item Fat Content'].unique())"
      ],
      "metadata": {
        "colab": {
          "base_uri": "https://localhost:8080/"
        },
        "id": "tJG3XksngaYM",
        "outputId": "8656fa6a-00e3-45e0-a8b3-826ee7bb8993"
      },
      "execution_count": 9,
      "outputs": [
        {
          "output_type": "stream",
          "name": "stdout",
          "text": [
            "['Regular' 'Low Fat' 'low fat' 'LF' 'reg']\n"
          ]
        }
      ]
    },
    {
      "cell_type": "markdown",
      "source": [
        "**DATA CLEANING**"
      ],
      "metadata": {
        "id": "2OeXsoFSg0qT"
      }
    },
    {
      "cell_type": "code",
      "source": [
        "data['Item Fat Content']= data['Item Fat Content'].replace({'LF':'Low Fat','low fat':'Low Fat','reg':'Regular'})"
      ],
      "metadata": {
        "id": "M6xbqBY6g3gc"
      },
      "execution_count": 10,
      "outputs": []
    },
    {
      "cell_type": "code",
      "source": [
        "print(data['Item Fat Content'].unique())"
      ],
      "metadata": {
        "colab": {
          "base_uri": "https://localhost:8080/"
        },
        "id": "SLU2Z0Ksh1oL",
        "outputId": "11ab3efd-5465-4e44-d15d-851ab3309658"
      },
      "execution_count": 11,
      "outputs": [
        {
          "output_type": "stream",
          "name": "stdout",
          "text": [
            "['Regular' 'Low Fat']\n"
          ]
        }
      ]
    },
    {
      "cell_type": "markdown",
      "source": [
        "# BUSINESS REQUIREMENT"
      ],
      "metadata": {
        "id": "K-AXls3miDsr"
      }
    },
    {
      "cell_type": "markdown",
      "source": [
        "**KPI Requirement**"
      ],
      "metadata": {
        "id": "Tf-rHyYWiWOK"
      }
    },
    {
      "cell_type": "code",
      "source": [
        "#total sale\n",
        "total_sales= data['Sales'].sum()\n",
        "\n",
        "#average_sale\n",
        "avg_sale = data['Sales'].mean()\n",
        "\n",
        "#Number of item sold\n",
        "no_of_item_sold = data['Sales'].count()\n",
        "\n",
        "#Average count\n",
        "avg_count = data['Rating'].mean()\n",
        "\n",
        "#DISPLAY\n",
        "print(f\"total sales: ${total_sales:,.0f}\")\n",
        "print(f\"Average sales: ${avg_sale:,.0f}\")\n",
        "print(f\"Number of item sold: {no_of_item_sold}\")\n",
        "print(f\"Average count: {avg_count:,.0f}\")"
      ],
      "metadata": {
        "colab": {
          "base_uri": "https://localhost:8080/"
        },
        "id": "6jgxc249iP-L",
        "outputId": "b7be847c-4c1f-419f-c5e0-e3948fa7ecfe"
      },
      "execution_count": 12,
      "outputs": [
        {
          "output_type": "stream",
          "name": "stdout",
          "text": [
            "total sales: $1,201,681\n",
            "Average sales: $141\n",
            "Number of item sold: 8523\n",
            "Average count: 4\n"
          ]
        }
      ]
    },
    {
      "cell_type": "markdown",
      "source": [
        "**Charts Requirement**"
      ],
      "metadata": {
        "id": "R4dutBRllGV_"
      }
    },
    {
      "cell_type": "markdown",
      "source": [
        "**Total sales by Fat content**"
      ],
      "metadata": {
        "id": "jz2on4XJlMy4"
      }
    },
    {
      "cell_type": "code",
      "source": [
        "#sale by fat content\n",
        "sales_by_fat_content = data.groupby('Item Fat Content')['Sales'].sum()\n",
        "plt.pie(sales_by_fat_content , labels= sales_by_fat_content.index,\n",
        "        autopct='%.0f%%',\n",
        "        startangle=90)\n",
        "\n",
        "plt.title(\"SALE BY FAT CONTENT\")\n",
        "plt.axis(\"equal\")\n",
        "plt.show()\n"
      ],
      "metadata": {
        "colab": {
          "base_uri": "https://localhost:8080/",
          "height": 428
        },
        "id": "hAcctFcSleX3",
        "outputId": "3b52ec75-13ea-48f6-f325-92a4af60bfbb"
      },
      "execution_count": 13,
      "outputs": [
        {
          "output_type": "display_data",
          "data": {
            "text/plain": [
              "<Figure size 640x480 with 1 Axes>"
            ],
            "image/png": "[encoded data removed]"
          },
          "metadata": {}
        }
      ]
    },
    {
      "cell_type": "markdown",
      "source": [
        "**Total sale by Item**"
      ],
      "metadata": {
        "id": "A15m-dtJrh65"
      }
    },
    {
      "cell_type": "code",
      "source": [
        "sales_by_type = data.groupby('Item Type')['Sales'].sum().sort_values(ascending=False)\n",
        "plt.figure(figsize=(12,6))\n",
        "bars = plt.bar(sales_by_type.index,sales_by_type.values)\n",
        "plt.xticks(rotation=90)\n",
        "plt.xlabel(\"Item Type\")\n",
        "plt.ylabel(\"Total Sales\")\n",
        "plt.title(\"Total Sales by Item Type\")\n",
        "for bar in bars:\n",
        "    plt.text(bar.get_x() + bar.get_width() / 2, bar.get_height(),\n",
        "             f\"{bar.get_height():,.0f}\",ha='center',va='bottom',fontsize=7\n",
        "            )\n",
        "plt.tight_layout()\n",
        "plt.show()"
      ],
      "metadata": {
        "colab": {
          "base_uri": "https://localhost:8080/",
          "height": 607
        },
        "id": "GhzRP5Uwrk1p",
        "outputId": "ceb6308b-6864-460d-d094-6d6c01e40810"
      },
      "execution_count": 14,
      "outputs": [
        {
          "output_type": "display_data",
          "data": {
            "text/plain": [
              "<Figure size 1200x600 with 1 Axes>"
            ],
            "image/png": "[encoded data removed]"
          },
          "metadata": {}
        }
      ]
    },
    {
      "cell_type": "markdown",
      "source": [
        "Fat content by outlet for Total sales"
      ],
      "metadata": {
        "id": "guYqsUy_9Y6y"
      }
    },
    {
      "cell_type": "code",
      "source": [
        "grouped = data.groupby(['Outlet Location Type','Item Fat Content'])['Sales'].sum().unstack()\n",
        "grouped = grouped[['Regular','Low Fat']]\n",
        "ax=grouped.plot(kind='bar',figsize=(10,6),title=\"Outlet by Fat Content\")\n",
        "plt.xlabel(\"Outlet Location Type\")\n",
        "plt.ylabel(\"Total Sales\")\n",
        "plt.legend(title=\"Item Fat Content\")\n",
        "plt.tight_layout()\n",
        "plt.show()"
      ],
      "metadata": {
        "colab": {
          "base_uri": "https://localhost:8080/",
          "height": 607
        },
        "id": "5QH0XkMoCkZ3",
        "outputId": "d51100d3-b8fd-485e-d7a9-cdc053ce471d"
      },
      "execution_count": 15,
      "outputs": [
        {
          "output_type": "display_data",
          "data": {
            "text/plain": [
              "<Figure size 1000x600 with 1 Axes>"
            ],
            "image/png": "[encoded data removed]"
          },
          "metadata": {}
        }
      ]
    },
    {
      "cell_type": "markdown",
      "source": [
        "**Total Sales by Outlet Establishment**"
      ],
      "metadata": {
        "id": "G4BK6uohn_GX"
      }
    },
    {
      "cell_type": "code",
      "source": [
        "sales_by_year = data.groupby(['Outlet Establishment Year'])['Sales'].sum().sort_index()\n",
        "plt.figure(figsize=(12,6))\n",
        "plt.plot(sales_by_year.index, sales_by_year.values,marker='o',linestyle='-',color='purple')\n",
        "plt.title('Sales by Year')\n",
        "plt.xlabel('outlet Establishment Year')\n",
        "plt.ylabel('total sales')\n",
        "plt.tight_layout()\n",
        "plt.show()"
      ],
      "metadata": {
        "colab": {
          "base_uri": "https://localhost:8080/",
          "height": 607
        },
        "id": "_ZKHAEH9oG6G",
        "outputId": "2fbf1d45-74f7-4531-d332-645fc0a2dd17"
      },
      "execution_count": 21,
      "outputs": [
        {
          "output_type": "display_data",
          "data": {
            "text/plain": [
              "<Figure size 1200x600 with 1 Axes>"
            ],
            "image/png": "[encoded data removed]"
          },
          "metadata": {}
        }
      ]
    },
    {
      "cell_type": "markdown",
      "source": [
        "**Total sales by Outlet Size**"
      ],
      "metadata": {
        "id": "djcPIyeIrbXt"
      }
    },
    {
      "cell_type": "code",
      "source": [
        "sales_by_outlet_size = data.groupby(['Outlet Size'])['Sales'].sum().sort_index()\n",
        "plt.figure(figsize=(10,6))\n",
        "plt.pie(sales_by_outlet_size, labels=sales_by_outlet_size.index , autopct='%.0f%%', startangle=90)\n",
        "plt.title('Sales by Outlet Size')\n",
        "plt.xlabel('Outlet Size')\n",
        "plt.ylabel('Total sales')\n",
        "plt.tight_layout()\n",
        "plt.show()"
      ],
      "metadata": {
        "colab": {
          "base_uri": "https://localhost:8080/",
          "height": 607
        },
        "id": "0Z7bSV0hrg08",
        "outputId": "2277142a-f236-49a4-c21e-94ecc3abc6c3"
      },
      "execution_count": 25,
      "outputs": [
        {
          "output_type": "display_data",
          "data": {
            "text/plain": [
              "<Figure size 1000x600 with 1 Axes>"
            ],
            "image/png": "[encoded data removed]"
          },
          "metadata": {}
        }
      ]
    },
    {
      "cell_type": "markdown",
      "source": [
        "**Total Sales by Outlet Location**"
      ],
      "metadata": {
        "id": "NZyewc1ytOnV"
      }
    },
    {
      "cell_type": "code",
      "source": [
        "total_sales_by_location = data.groupby(['Outlet Location Type'])['Sales'].sum().reset_index()\n",
        "plt.figure(figsize=(10,6))\n",
        "plot = sns.barplot(x='Sales', y='Outlet Location Type' , data= total_sales_by_location , color=\"green\")\n",
        "plt.title('Total Sales by Outlet Location')\n",
        "plt.xlabel('Total Sales')\n",
        "plt.ylabel('Outlet Location')\n",
        "plt.tight_layout()\n",
        "plt.show()"
      ],
      "metadata": {
        "colab": {
          "base_uri": "https://localhost:8080/",
          "height": 607
        },
        "id": "pwET7xbEtXes",
        "outputId": "fed1a63c-d6c7-41ef-886e-cc9a8fb1273e"
      },
      "execution_count": 30,
      "outputs": [
        {
          "output_type": "display_data",
          "data": {
            "text/plain": [
              "<Figure size 1000x600 with 1 Axes>"
            ],
            "image/png": "[encoded data removed]"
          },
          "metadata": {}
        }
      ]
    }
  ]
}